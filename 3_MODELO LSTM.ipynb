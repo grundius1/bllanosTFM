{
 "cells": [
  {
   "cell_type": "code",
   "execution_count": 1,
   "id": "25b7c1a8-ae6e-4277-994a-aa5f739c9676",
   "metadata": {},
   "outputs": [],
   "source": [
    "import pandas as pd\n",
    "import joblib\n",
    "import numpy as np\n",
    "from sklearn.model_selection import train_test_split\n",
    "from tensorflow.keras.models import Sequential\n",
    "from tensorflow.keras.layers import LSTM, Dense, Dropout\n",
    "from tensorflow.keras.callbacks import EarlyStopping\n",
    "from tensorflow.keras.metrics import RootMeanSquaredError\n",
    "from sklearn.metrics import mean_squared_error, mean_absolute_error, r2_score\n",
    "import keras_tuner as kt\n",
    "from keras_tuner import Objective\n",
    "import time"
   ]
  },
  {
   "cell_type": "code",
   "execution_count": 2,
   "id": "2db9a777-d1bb-45bd-81e1-2e92a7f2af41",
   "metadata": {},
   "outputs": [],
   "source": [
    "def createdf(number):\n",
    "    nombres_columnas = ['unit', 'cycle', 'op_setting_1', 'op_setting_2', 'op_setting_3']\n",
    "    nombres_columnas += [f'sensor_{i}' for i in range(1, 24)]\n",
    "    df = pd.read_csv(rf\"./CMAPSSData/train_FD00{number}.txt\",sep = \" \", header = None, index_col = None)\n",
    "    df.columns = nombres_columnas\n",
    "    df = df.iloc[:, :-2]\n",
    "    return df"
   ]
  },
  {
   "cell_type": "code",
   "execution_count": 3,
   "id": "4058b2c7-f7f0-4c1a-968b-0b1e4b40030c",
   "metadata": {},
   "outputs": [],
   "source": [
    "df = createdf(4)"
   ]
  },
  {
   "cell_type": "code",
   "execution_count": 4,
   "id": "447da0ea-8e42-4e25-9c4c-bd03a9704af2",
   "metadata": {},
   "outputs": [],
   "source": [
    "max_cycle_by_unit = df.groupby('unit')['cycle'].transform('max')\n",
    "df['RUL'] = max_cycle_by_unit - df['cycle']"
   ]
  },
  {
   "cell_type": "code",
   "execution_count": 5,
   "id": "60326af0-8ad2-4ee1-a4ce-5a681782c8c1",
   "metadata": {},
   "outputs": [],
   "source": [
    "X_total = df.drop(['unit', 'cycle', 'RUL'], axis = 1)\n",
    "y = df.RUL"
   ]
  },
  {
   "cell_type": "code",
   "execution_count": 6,
   "id": "bb9eaac7-d7d1-4d6e-a4dd-16a35dcc507f",
   "metadata": {},
   "outputs": [],
   "source": [
    "X_final = pd.read_csv('X_final.csv')\n",
    "X_scaled = pd.read_csv('X_scaled.csv')"
   ]
  },
  {
   "cell_type": "code",
   "execution_count": 7,
   "id": "0edb4d15-2ce3-4ab6-a520-3ed56fa7f7c6",
   "metadata": {},
   "outputs": [],
   "source": [
    "def LSTM_secuencia(df, df_valores ,ventana=30):\n",
    "\n",
    "    max_cycle_by_unit = df.groupby('unit')['cycle'].transform('max')\n",
    "    df['RUL'] = max_cycle_by_unit - df['cycle']\n",
    "\n",
    "    sequencias = []\n",
    "    etiquetas = []\n",
    "\n",
    "    df_no_escaladas = df[['unit','cycle', 'RUL']]\n",
    "    df_combinado = pd.concat([df_no_escaladas, df_valores], axis= 1)\n",
    "\n",
    "    for motor, grupo in df_combinado.groupby('unit'):\n",
    "\n",
    "        grupo = grupo.sort_values('cycle')\n",
    "        valores = grupo[df_valores.columns].values\n",
    "        rul_valores = grupo.RUL.values\n",
    "        for i in range(len(grupo) - ventana + 1):\n",
    "            X_ventana = valores[i:i+ventana]\n",
    "            y_ventana = rul_valores[i+ventana - 1]\n",
    "            sequencias.append(X_ventana)\n",
    "            etiquetas.append(y_ventana)\n",
    "\n",
    "    return np.array(sequencias), np.array(etiquetas)"
   ]
  },
  {
   "cell_type": "code",
   "execution_count": 8,
   "id": "c87138da-16f6-4c67-96d7-16efb0f7a272",
   "metadata": {},
   "outputs": [],
   "source": [
    "def model_const(hp):\n",
    "    model = Sequential()\n",
    "    \n",
    "    model.add(LSTM(\n",
    "        units=hp.Int('units1', min_value=80, max_value=140, step=20),\n",
    "        return_sequences=True,\n",
    "        input_shape=(ventana, n_columnas)\n",
    "    ))\n",
    "    model.add(Dropout(hp.Float('dropout1', 0.2, 0.3, step=0.1)))\n",
    "\n",
    "    model.add(LSTM(\n",
    "        units=hp.Int('units2', min_value=20, max_value=80, step=20)\n",
    "    ))\n",
    "\n",
    "    model.add(Dense(1))\n",
    "\n",
    "    model.compile(\n",
    "        optimizer='adam',\n",
    "        loss='mse',\n",
    "        metrics = [RootMeanSquaredError(name='rmse')]\n",
    "    )\n",
    "\n",
    "    return model\n",
    "\n",
    "def model_train(df, df_valores, ventana=30, max_trials=20, epochs=50, label = 'final'):\n",
    "    start = time.time()\n",
    "    \n",
    "    X_seq, y_seq = LSTM_secuencia(df, df_valores, ventana=ventana)\n",
    "\n",
    "    global n_columnas\n",
    "    n_columnas = X_seq.shape[2]\n",
    "    X_train, X_test, y_train, y_test = train_test_split(X_seq, y_seq, test_size=0.2, random_state=42)\n",
    "\n",
    "    tuner = kt.GridSearch(\n",
    "        model_const,\n",
    "        objective=Objective(\"val_rmse\", direction=\"min\"),\n",
    "        max_trials=max_trials,\n",
    "        overwrite=True,\n",
    "        directory=\"lstm_tuning\",\n",
    "        project_name=\"CMAPSS_RUL\",\n",
    "    )\n",
    "\n",
    "    early_stop = EarlyStopping(monitor='val_rmse', patience=2, restore_best_weights=True, mode='min')\n",
    "\n",
    "    tuner.search(X_train, y_train,\n",
    "                 validation_split=0.2,\n",
    "                 epochs=epochs,\n",
    "                 batch_size=64,\n",
    "                 callbacks=[early_stop],\n",
    "                 verbose=1,\n",
    ")\n",
    "\n",
    "    best_model = tuner.get_best_models(num_models=1)[0]\n",
    "    best_hps = tuner.get_best_hyperparameters(num_trials=1)[0]\n",
    "\n",
    "    y_pred = best_model.predict(X_test)\n",
    "    rmse = mean_squared_error(y_test, y_pred)\n",
    "    mae = mean_absolute_error(y_test, y_pred)\n",
    "    r2 = r2_score(y_test, y_pred)\n",
    "\n",
    "    best_model.save(f\"best_lstm_model_{label}_kt.h5\")\n",
    "    end = time.time()\n",
    "    total_time = end - start\n",
    "    return rmse, mae, r2, total_time, best_model, tuner, best_hps"
   ]
  },
  {
   "cell_type": "code",
   "execution_count": 9,
   "id": "ed9d69d1-bc98-490c-b290-b9108effb6a0",
   "metadata": {},
   "outputs": [],
   "source": [
    "global ventana\n",
    "ventana = 40"
   ]
  },
  {
   "cell_type": "code",
   "execution_count": 10,
   "id": "547d5b17-72d9-4081-8708-10c672107b8f",
   "metadata": {},
   "outputs": [
    {
     "name": "stdout",
     "output_type": "stream",
     "text": [
      "Trial 16 Complete [00h 02m 04s]\n",
      "val_rmse: 81.97135162353516\n",
      "\n",
      "Best val_rmse So Far: 81.9712142944336\n",
      "Total elapsed time: 00h 37m 58s\n",
      "\u001b[1m  1/323\u001b[0m \u001b[37m━━━━━━━━━━━━━━━━━━━━\u001b[0m \u001b[1m42s\u001b[0m 134ms/step"
     ]
    },
    {
     "name": "stderr",
     "output_type": "stream",
     "text": [
      "C:\\Users\\Borja\\anaconda3\\envs\\tfm\\Lib\\site-packages\\keras\\src\\saving\\saving_lib.py:757: UserWarning: Skipping variable loading for optimizer 'adam', because it has 2 variables whereas the saved optimizer has 18 variables. \n",
      "  saveable.load_own_variables(weights_store.get(inner_path))\n"
     ]
    },
    {
     "name": "stdout",
     "output_type": "stream",
     "text": [
      "\u001b[1m323/323\u001b[0m \u001b[32m━━━━━━━━━━━━━━━━━━━━\u001b[0m\u001b[37m\u001b[0m \u001b[1m2s\u001b[0m 5ms/step\n"
     ]
    },
    {
     "name": "stderr",
     "output_type": "stream",
     "text": [
      "WARNING:absl:You are saving your model as an HDF5 file via `model.save()` or `keras.saving.save_model(model)`. This file format is considered legacy. We recommend using instead the native Keras format, e.g. `model.save('my_model.keras')` or `keras.saving.save_model(model, 'my_model.keras')`. \n"
     ]
    }
   ],
   "source": [
    "rmse, mae, r2, total_time, best_model, tuner, best_hps = model_train(df, X_final, ventana = ventana)"
   ]
  },
  {
   "cell_type": "code",
   "execution_count": 11,
   "id": "c511e0d6-998b-42b5-9536-598c7d355c4d",
   "metadata": {},
   "outputs": [
    {
     "name": "stdout",
     "output_type": "stream",
     "text": [
      "6565.6220703125 65.2789306640625 -0.00022530555725097656 2280.748761177063 <Sequential name=sequential, built=True> <keras_tuner.src.tuners.gridsearch.GridSearch object at 0x000002A85D0AF210> <keras_tuner.src.engine.hyperparameters.hyperparameters.HyperParameters object at 0x000002A85F91E150>\n"
     ]
    }
   ],
   "source": [
    "print(rmse, mae, r2, total_time, best_model, tuner, best_hps)"
   ]
  },
  {
   "cell_type": "code",
   "execution_count": 12,
   "id": "29c426b0-1fbc-445f-ba2e-9065b26a967c",
   "metadata": {},
   "outputs": [
    {
     "name": "stdout",
     "output_type": "stream",
     "text": [
      "Trial 16 Complete [00h 02m 55s]\n",
      "val_rmse: 81.97142791748047\n",
      "\n",
      "Best val_rmse So Far: 81.97122955322266\n",
      "Total elapsed time: 00h 47m 10s\n"
     ]
    },
    {
     "name": "stderr",
     "output_type": "stream",
     "text": [
      "C:\\Users\\Borja\\anaconda3\\envs\\tfm\\Lib\\site-packages\\keras\\src\\saving\\saving_lib.py:757: UserWarning: Skipping variable loading for optimizer 'adam', because it has 2 variables whereas the saved optimizer has 18 variables. \n",
      "  saveable.load_own_variables(weights_store.get(inner_path))\n"
     ]
    },
    {
     "name": "stdout",
     "output_type": "stream",
     "text": [
      "\u001b[1m323/323\u001b[0m \u001b[32m━━━━━━━━━━━━━━━━━━━━\u001b[0m\u001b[37m\u001b[0m \u001b[1m2s\u001b[0m 7ms/step\n"
     ]
    },
    {
     "name": "stderr",
     "output_type": "stream",
     "text": [
      "WARNING:absl:You are saving your model as an HDF5 file via `model.save()` or `keras.saving.save_model(model)`. This file format is considered legacy. We recommend using instead the native Keras format, e.g. `model.save('my_model.keras')` or `keras.saving.save_model(model, 'my_model.keras')`. \n"
     ]
    }
   ],
   "source": [
    "rmse_scaled, mae_scaled, r2_scaled,  total_time_scaled, best_model_scaled, tuner_scaled, best_hps_scaled = model_train(df, X_scaled, ventana = ventana, label = 'scaled')"
   ]
  },
  {
   "cell_type": "code",
   "execution_count": 13,
   "id": "4d8971dc-e450-40b2-b066-624a5a93f058",
   "metadata": {},
   "outputs": [
    {
     "data": {
      "text/html": [
       "<pre style=\"white-space:pre;overflow-x:auto;line-height:normal;font-family:Menlo,'DejaVu Sans Mono',consolas,'Courier New',monospace\"><span style=\"font-weight: bold\">Model: \"sequential\"</span>\n",
       "</pre>\n"
      ],
      "text/plain": [
       "\u001b[1mModel: \"sequential\"\u001b[0m\n"
      ]
     },
     "metadata": {},
     "output_type": "display_data"
    },
    {
     "data": {
      "text/html": [
       "<pre style=\"white-space:pre;overflow-x:auto;line-height:normal;font-family:Menlo,'DejaVu Sans Mono',consolas,'Courier New',monospace\">┏━━━━━━━━━━━━━━━━━━━━━━━━━━━━━━━━━┳━━━━━━━━━━━━━━━━━━━━━━━━┳━━━━━━━━━━━━━━━┓\n",
       "┃<span style=\"font-weight: bold\"> Layer (type)                    </span>┃<span style=\"font-weight: bold\"> Output Shape           </span>┃<span style=\"font-weight: bold\">       Param # </span>┃\n",
       "┡━━━━━━━━━━━━━━━━━━━━━━━━━━━━━━━━━╇━━━━━━━━━━━━━━━━━━━━━━━━╇━━━━━━━━━━━━━━━┩\n",
       "│ lstm (<span style=\"color: #0087ff; text-decoration-color: #0087ff\">LSTM</span>)                     │ (<span style=\"color: #00d7ff; text-decoration-color: #00d7ff\">None</span>, <span style=\"color: #00af00; text-decoration-color: #00af00\">40</span>, <span style=\"color: #00af00; text-decoration-color: #00af00\">80</span>)         │        <span style=\"color: #00af00; text-decoration-color: #00af00\">29,120</span> │\n",
       "├─────────────────────────────────┼────────────────────────┼───────────────┤\n",
       "│ dropout (<span style=\"color: #0087ff; text-decoration-color: #0087ff\">Dropout</span>)               │ (<span style=\"color: #00d7ff; text-decoration-color: #00d7ff\">None</span>, <span style=\"color: #00af00; text-decoration-color: #00af00\">40</span>, <span style=\"color: #00af00; text-decoration-color: #00af00\">80</span>)         │             <span style=\"color: #00af00; text-decoration-color: #00af00\">0</span> │\n",
       "├─────────────────────────────────┼────────────────────────┼───────────────┤\n",
       "│ lstm_1 (<span style=\"color: #0087ff; text-decoration-color: #0087ff\">LSTM</span>)                   │ (<span style=\"color: #00d7ff; text-decoration-color: #00d7ff\">None</span>, <span style=\"color: #00af00; text-decoration-color: #00af00\">80</span>)             │        <span style=\"color: #00af00; text-decoration-color: #00af00\">51,520</span> │\n",
       "├─────────────────────────────────┼────────────────────────┼───────────────┤\n",
       "│ dense (<span style=\"color: #0087ff; text-decoration-color: #0087ff\">Dense</span>)                   │ (<span style=\"color: #00d7ff; text-decoration-color: #00d7ff\">None</span>, <span style=\"color: #00af00; text-decoration-color: #00af00\">1</span>)              │            <span style=\"color: #00af00; text-decoration-color: #00af00\">81</span> │\n",
       "└─────────────────────────────────┴────────────────────────┴───────────────┘\n",
       "</pre>\n"
      ],
      "text/plain": [
       "┏━━━━━━━━━━━━━━━━━━━━━━━━━━━━━━━━━┳━━━━━━━━━━━━━━━━━━━━━━━━┳━━━━━━━━━━━━━━━┓\n",
       "┃\u001b[1m \u001b[0m\u001b[1mLayer (type)                   \u001b[0m\u001b[1m \u001b[0m┃\u001b[1m \u001b[0m\u001b[1mOutput Shape          \u001b[0m\u001b[1m \u001b[0m┃\u001b[1m \u001b[0m\u001b[1m      Param #\u001b[0m\u001b[1m \u001b[0m┃\n",
       "┡━━━━━━━━━━━━━━━━━━━━━━━━━━━━━━━━━╇━━━━━━━━━━━━━━━━━━━━━━━━╇━━━━━━━━━━━━━━━┩\n",
       "│ lstm (\u001b[38;5;33mLSTM\u001b[0m)                     │ (\u001b[38;5;45mNone\u001b[0m, \u001b[38;5;34m40\u001b[0m, \u001b[38;5;34m80\u001b[0m)         │        \u001b[38;5;34m29,120\u001b[0m │\n",
       "├─────────────────────────────────┼────────────────────────┼───────────────┤\n",
       "│ dropout (\u001b[38;5;33mDropout\u001b[0m)               │ (\u001b[38;5;45mNone\u001b[0m, \u001b[38;5;34m40\u001b[0m, \u001b[38;5;34m80\u001b[0m)         │             \u001b[38;5;34m0\u001b[0m │\n",
       "├─────────────────────────────────┼────────────────────────┼───────────────┤\n",
       "│ lstm_1 (\u001b[38;5;33mLSTM\u001b[0m)                   │ (\u001b[38;5;45mNone\u001b[0m, \u001b[38;5;34m80\u001b[0m)             │        \u001b[38;5;34m51,520\u001b[0m │\n",
       "├─────────────────────────────────┼────────────────────────┼───────────────┤\n",
       "│ dense (\u001b[38;5;33mDense\u001b[0m)                   │ (\u001b[38;5;45mNone\u001b[0m, \u001b[38;5;34m1\u001b[0m)              │            \u001b[38;5;34m81\u001b[0m │\n",
       "└─────────────────────────────────┴────────────────────────┴───────────────┘\n"
      ]
     },
     "metadata": {},
     "output_type": "display_data"
    },
    {
     "data": {
      "text/html": [
       "<pre style=\"white-space:pre;overflow-x:auto;line-height:normal;font-family:Menlo,'DejaVu Sans Mono',consolas,'Courier New',monospace\"><span style=\"font-weight: bold\"> Total params: </span><span style=\"color: #00af00; text-decoration-color: #00af00\">80,721</span> (315.32 KB)\n",
       "</pre>\n"
      ],
      "text/plain": [
       "\u001b[1m Total params: \u001b[0m\u001b[38;5;34m80,721\u001b[0m (315.32 KB)\n"
      ]
     },
     "metadata": {},
     "output_type": "display_data"
    },
    {
     "data": {
      "text/html": [
       "<pre style=\"white-space:pre;overflow-x:auto;line-height:normal;font-family:Menlo,'DejaVu Sans Mono',consolas,'Courier New',monospace\"><span style=\"font-weight: bold\"> Trainable params: </span><span style=\"color: #00af00; text-decoration-color: #00af00\">80,721</span> (315.32 KB)\n",
       "</pre>\n"
      ],
      "text/plain": [
       "\u001b[1m Trainable params: \u001b[0m\u001b[38;5;34m80,721\u001b[0m (315.32 KB)\n"
      ]
     },
     "metadata": {},
     "output_type": "display_data"
    },
    {
     "data": {
      "text/html": [
       "<pre style=\"white-space:pre;overflow-x:auto;line-height:normal;font-family:Menlo,'DejaVu Sans Mono',consolas,'Courier New',monospace\"><span style=\"font-weight: bold\"> Non-trainable params: </span><span style=\"color: #00af00; text-decoration-color: #00af00\">0</span> (0.00 B)\n",
       "</pre>\n"
      ],
      "text/plain": [
       "\u001b[1m Non-trainable params: \u001b[0m\u001b[38;5;34m0\u001b[0m (0.00 B)\n"
      ]
     },
     "metadata": {},
     "output_type": "display_data"
    }
   ],
   "source": [
    "best_model.summary()"
   ]
  },
  {
   "cell_type": "code",
   "execution_count": 14,
   "id": "d6a24887-8a8f-42d5-8c26-420bb62569b5",
   "metadata": {},
   "outputs": [
    {
     "name": "stdout",
     "output_type": "stream",
     "text": [
      "units1: 80\n",
      "dropout1: 0.2\n",
      "units2: 80\n"
     ]
    }
   ],
   "source": [
    "for param in best_hps.values:\n",
    "    print(f\"{param}: {best_hps.get(param)}\")"
   ]
  },
  {
   "cell_type": "code",
   "execution_count": 15,
   "id": "ac63cb5f-c119-476e-95b5-6939c54bd5a7",
   "metadata": {},
   "outputs": [
    {
     "data": {
      "text/html": [
       "<pre style=\"white-space:pre;overflow-x:auto;line-height:normal;font-family:Menlo,'DejaVu Sans Mono',consolas,'Courier New',monospace\"><span style=\"font-weight: bold\">Model: \"sequential\"</span>\n",
       "</pre>\n"
      ],
      "text/plain": [
       "\u001b[1mModel: \"sequential\"\u001b[0m\n"
      ]
     },
     "metadata": {},
     "output_type": "display_data"
    },
    {
     "data": {
      "text/html": [
       "<pre style=\"white-space:pre;overflow-x:auto;line-height:normal;font-family:Menlo,'DejaVu Sans Mono',consolas,'Courier New',monospace\">┏━━━━━━━━━━━━━━━━━━━━━━━━━━━━━━━━━┳━━━━━━━━━━━━━━━━━━━━━━━━┳━━━━━━━━━━━━━━━┓\n",
       "┃<span style=\"font-weight: bold\"> Layer (type)                    </span>┃<span style=\"font-weight: bold\"> Output Shape           </span>┃<span style=\"font-weight: bold\">       Param # </span>┃\n",
       "┡━━━━━━━━━━━━━━━━━━━━━━━━━━━━━━━━━╇━━━━━━━━━━━━━━━━━━━━━━━━╇━━━━━━━━━━━━━━━┩\n",
       "│ lstm (<span style=\"color: #0087ff; text-decoration-color: #0087ff\">LSTM</span>)                     │ (<span style=\"color: #00d7ff; text-decoration-color: #00d7ff\">None</span>, <span style=\"color: #00af00; text-decoration-color: #00af00\">40</span>, <span style=\"color: #00af00; text-decoration-color: #00af00\">100</span>)        │        <span style=\"color: #00af00; text-decoration-color: #00af00\">50,000</span> │\n",
       "├─────────────────────────────────┼────────────────────────┼───────────────┤\n",
       "│ dropout (<span style=\"color: #0087ff; text-decoration-color: #0087ff\">Dropout</span>)               │ (<span style=\"color: #00d7ff; text-decoration-color: #00d7ff\">None</span>, <span style=\"color: #00af00; text-decoration-color: #00af00\">40</span>, <span style=\"color: #00af00; text-decoration-color: #00af00\">100</span>)        │             <span style=\"color: #00af00; text-decoration-color: #00af00\">0</span> │\n",
       "├─────────────────────────────────┼────────────────────────┼───────────────┤\n",
       "│ lstm_1 (<span style=\"color: #0087ff; text-decoration-color: #0087ff\">LSTM</span>)                   │ (<span style=\"color: #00d7ff; text-decoration-color: #00d7ff\">None</span>, <span style=\"color: #00af00; text-decoration-color: #00af00\">40</span>)             │        <span style=\"color: #00af00; text-decoration-color: #00af00\">22,560</span> │\n",
       "├─────────────────────────────────┼────────────────────────┼───────────────┤\n",
       "│ dense (<span style=\"color: #0087ff; text-decoration-color: #0087ff\">Dense</span>)                   │ (<span style=\"color: #00d7ff; text-decoration-color: #00d7ff\">None</span>, <span style=\"color: #00af00; text-decoration-color: #00af00\">1</span>)              │            <span style=\"color: #00af00; text-decoration-color: #00af00\">41</span> │\n",
       "└─────────────────────────────────┴────────────────────────┴───────────────┘\n",
       "</pre>\n"
      ],
      "text/plain": [
       "┏━━━━━━━━━━━━━━━━━━━━━━━━━━━━━━━━━┳━━━━━━━━━━━━━━━━━━━━━━━━┳━━━━━━━━━━━━━━━┓\n",
       "┃\u001b[1m \u001b[0m\u001b[1mLayer (type)                   \u001b[0m\u001b[1m \u001b[0m┃\u001b[1m \u001b[0m\u001b[1mOutput Shape          \u001b[0m\u001b[1m \u001b[0m┃\u001b[1m \u001b[0m\u001b[1m      Param #\u001b[0m\u001b[1m \u001b[0m┃\n",
       "┡━━━━━━━━━━━━━━━━━━━━━━━━━━━━━━━━━╇━━━━━━━━━━━━━━━━━━━━━━━━╇━━━━━━━━━━━━━━━┩\n",
       "│ lstm (\u001b[38;5;33mLSTM\u001b[0m)                     │ (\u001b[38;5;45mNone\u001b[0m, \u001b[38;5;34m40\u001b[0m, \u001b[38;5;34m100\u001b[0m)        │        \u001b[38;5;34m50,000\u001b[0m │\n",
       "├─────────────────────────────────┼────────────────────────┼───────────────┤\n",
       "│ dropout (\u001b[38;5;33mDropout\u001b[0m)               │ (\u001b[38;5;45mNone\u001b[0m, \u001b[38;5;34m40\u001b[0m, \u001b[38;5;34m100\u001b[0m)        │             \u001b[38;5;34m0\u001b[0m │\n",
       "├─────────────────────────────────┼────────────────────────┼───────────────┤\n",
       "│ lstm_1 (\u001b[38;5;33mLSTM\u001b[0m)                   │ (\u001b[38;5;45mNone\u001b[0m, \u001b[38;5;34m40\u001b[0m)             │        \u001b[38;5;34m22,560\u001b[0m │\n",
       "├─────────────────────────────────┼────────────────────────┼───────────────┤\n",
       "│ dense (\u001b[38;5;33mDense\u001b[0m)                   │ (\u001b[38;5;45mNone\u001b[0m, \u001b[38;5;34m1\u001b[0m)              │            \u001b[38;5;34m41\u001b[0m │\n",
       "└─────────────────────────────────┴────────────────────────┴───────────────┘\n"
      ]
     },
     "metadata": {},
     "output_type": "display_data"
    },
    {
     "data": {
      "text/html": [
       "<pre style=\"white-space:pre;overflow-x:auto;line-height:normal;font-family:Menlo,'DejaVu Sans Mono',consolas,'Courier New',monospace\"><span style=\"font-weight: bold\"> Total params: </span><span style=\"color: #00af00; text-decoration-color: #00af00\">72,601</span> (283.60 KB)\n",
       "</pre>\n"
      ],
      "text/plain": [
       "\u001b[1m Total params: \u001b[0m\u001b[38;5;34m72,601\u001b[0m (283.60 KB)\n"
      ]
     },
     "metadata": {},
     "output_type": "display_data"
    },
    {
     "data": {
      "text/html": [
       "<pre style=\"white-space:pre;overflow-x:auto;line-height:normal;font-family:Menlo,'DejaVu Sans Mono',consolas,'Courier New',monospace\"><span style=\"font-weight: bold\"> Trainable params: </span><span style=\"color: #00af00; text-decoration-color: #00af00\">72,601</span> (283.60 KB)\n",
       "</pre>\n"
      ],
      "text/plain": [
       "\u001b[1m Trainable params: \u001b[0m\u001b[38;5;34m72,601\u001b[0m (283.60 KB)\n"
      ]
     },
     "metadata": {},
     "output_type": "display_data"
    },
    {
     "data": {
      "text/html": [
       "<pre style=\"white-space:pre;overflow-x:auto;line-height:normal;font-family:Menlo,'DejaVu Sans Mono',consolas,'Courier New',monospace\"><span style=\"font-weight: bold\"> Non-trainable params: </span><span style=\"color: #00af00; text-decoration-color: #00af00\">0</span> (0.00 B)\n",
       "</pre>\n"
      ],
      "text/plain": [
       "\u001b[1m Non-trainable params: \u001b[0m\u001b[38;5;34m0\u001b[0m (0.00 B)\n"
      ]
     },
     "metadata": {},
     "output_type": "display_data"
    }
   ],
   "source": [
    "best_model_scaled.summary()"
   ]
  },
  {
   "cell_type": "code",
   "execution_count": 16,
   "id": "33d3e4db-16af-44eb-a37d-786c4834ab5b",
   "metadata": {},
   "outputs": [
    {
     "name": "stdout",
     "output_type": "stream",
     "text": [
      "units1: 100\n",
      "dropout1: 0.2\n",
      "units2: 40\n"
     ]
    }
   ],
   "source": [
    "for param in best_hps_scaled.values:\n",
    "    print(f\"{param}: {best_hps_scaled.get(param)}\")"
   ]
  },
  {
   "cell_type": "code",
   "execution_count": 17,
   "id": "7e3be8cc-2043-4f13-a52a-ee80732b96f4",
   "metadata": {},
   "outputs": [
    {
     "data": {
      "text/plain": [
       "6565.732421875"
      ]
     },
     "execution_count": 17,
     "metadata": {},
     "output_type": "execute_result"
    }
   ],
   "source": [
    "rmse_scaled"
   ]
  },
  {
   "cell_type": "code",
   "execution_count": 18,
   "id": "bad508db-6d6a-4865-a7f2-fa3a1bc893b8",
   "metadata": {},
   "outputs": [
    {
     "data": {
      "text/plain": [
       "6565.6220703125"
      ]
     },
     "execution_count": 18,
     "metadata": {},
     "output_type": "execute_result"
    }
   ],
   "source": [
    "rmse"
   ]
  },
  {
   "cell_type": "code",
   "execution_count": null,
   "id": "a87885f4-b9b7-4ee1-8912-e79aa2170358",
   "metadata": {},
   "outputs": [],
   "source": []
  }
 ],
 "metadata": {
  "kernelspec": {
   "display_name": "Python 3 (ipykernel)",
   "language": "python",
   "name": "python3"
  },
  "language_info": {
   "codemirror_mode": {
    "name": "ipython",
    "version": 3
   },
   "file_extension": ".py",
   "mimetype": "text/x-python",
   "name": "python",
   "nbconvert_exporter": "python",
   "pygments_lexer": "ipython3",
   "version": "3.11.11"
  }
 },
 "nbformat": 4,
 "nbformat_minor": 5
}
